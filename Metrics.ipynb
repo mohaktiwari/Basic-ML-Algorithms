{
  "nbformat": 4,
  "nbformat_minor": 0,
  "metadata": {
    "colab": {
      "provenance": [],
      "authorship_tag": "ABX9TyMRVKUCi4SM9VU04Baq/pFF",
      "include_colab_link": true
    },
    "kernelspec": {
      "name": "python3",
      "display_name": "Python 3"
    },
    "language_info": {
      "name": "python"
    }
  },
  "cells": [
    {
      "cell_type": "markdown",
      "metadata": {
        "id": "view-in-github",
        "colab_type": "text"
      },
      "source": [
        "<a href=\"https://colab.research.google.com/github/mohaktiwari/MarvelTasks/blob/main/Metrics.ipynb\" target=\"_parent\"><img src=\"https://colab.research.google.com/assets/colab-badge.svg\" alt=\"Open In Colab\"/></a>"
      ]
    },
    {
      "cell_type": "code",
      "execution_count": null,
      "metadata": {
        "id": "IjZe6NKoufT7",
        "colab": {
          "base_uri": "https://localhost:8080/"
        },
        "outputId": "5d24c549-963a-4d73-babf-663dc3cf680c"
      },
      "outputs": [
        {
          "output_type": "stream",
          "name": "stdout",
          "text": [
            "0.6\n"
          ]
        }
      ],
      "source": [
        "#Calculating Mean Squared Error(MSE)\n",
        "from sklearn import metrics\n",
        "y_real=[1,9,8,5,3]\n",
        "y_pred=[2,9,7,6,3]\n",
        "print(metrics.mean_squared_error(y_real,y_pred))"
      ]
    },
    {
      "cell_type": "code",
      "source": [
        "#Calculating Root Mean Squared Error(RMSE)\n",
        "import numpy as np\n",
        "print(np.sqrt(metrics.mean_squared_error(y_real,y_pred)))"
      ],
      "metadata": {
        "colab": {
          "base_uri": "https://localhost:8080/"
        },
        "id": "HKurPPKW4tl0",
        "outputId": "2e3e5476-c820-4b10-cfab-1e53530d721a"
      },
      "execution_count": null,
      "outputs": [
        {
          "output_type": "stream",
          "name": "stdout",
          "text": [
            "0.7745966692414834\n"
          ]
        }
      ]
    },
    {
      "cell_type": "code",
      "source": [
        "#Calculating R2 Score\n",
        "print(metrics.r2_score(y_real,y_pred))"
      ],
      "metadata": {
        "colab": {
          "base_uri": "https://localhost:8080/"
        },
        "id": "mPLEv5pf46AS",
        "outputId": "864da685-efb6-4a48-adc6-cd5c6fdbdd55"
      },
      "execution_count": null,
      "outputs": [
        {
          "output_type": "stream",
          "name": "stdout",
          "text": [
            "0.9330357142857143\n"
          ]
        }
      ]
    },
    {
      "cell_type": "code",
      "source": [
        "#Calculating Mean Absolute Error(MAE)\n",
        "print(metrics.mean_absolute_error(y_real,y_pred))"
      ],
      "metadata": {
        "colab": {
          "base_uri": "https://localhost:8080/"
        },
        "id": "ROE_5AmC5GY2",
        "outputId": "73d538d8-1963-43ea-d9d1-e8a977a15787"
      },
      "execution_count": null,
      "outputs": [
        {
          "output_type": "stream",
          "name": "stdout",
          "text": [
            "0.6\n"
          ]
        }
      ]
    },
    {
      "cell_type": "code",
      "source": [
        "#Calculating Accuracy Score\n",
        "print(metrics.accuracy_score(y_real,y_pred))"
      ],
      "metadata": {
        "colab": {
          "base_uri": "https://localhost:8080/"
        },
        "id": "qD5pbLEz5Mde",
        "outputId": "52dccb9c-2f7a-4c0f-bc0b-3944a67ce9b2"
      },
      "execution_count": null,
      "outputs": [
        {
          "output_type": "stream",
          "name": "stdout",
          "text": [
            "0.4\n"
          ]
        }
      ]
    },
    {
      "cell_type": "code",
      "source": [
        "#Plotting Confusion Matrix\n",
        "y_real=[1,1,0,2,1]\n",
        "y_pred=[1,0,0,2,1]\n",
        "print(metrics.confusion_matrix(y_real,y_pred))"
      ],
      "metadata": {
        "colab": {
          "base_uri": "https://localhost:8080/"
        },
        "id": "Kv0JgPzk5U7A",
        "outputId": "15775c1c-1fcf-4fb5-cc8f-cd75b9f699a3"
      },
      "execution_count": null,
      "outputs": [
        {
          "output_type": "stream",
          "name": "stdout",
          "text": [
            "[[1 0 0]\n",
            " [1 2 0]\n",
            " [0 0 1]]\n"
          ]
        }
      ]
    },
    {
      "cell_type": "code",
      "source": [
        "#Calculating Precision Score\n",
        "print(metrics.precision_score(y_real,y_pred,average='macro'))"
      ],
      "metadata": {
        "colab": {
          "base_uri": "https://localhost:8080/"
        },
        "id": "gJ_nUkofJ2bl",
        "outputId": "07bf753b-24c1-4abf-9b92-ceaed8af52d4"
      },
      "execution_count": null,
      "outputs": [
        {
          "output_type": "stream",
          "name": "stdout",
          "text": [
            "0.8333333333333334\n"
          ]
        }
      ]
    },
    {
      "cell_type": "code",
      "source": [
        "#Calculating Recall Score\n",
        "print(metrics.recall_score(y_real,y_pred,average='macro'))"
      ],
      "metadata": {
        "colab": {
          "base_uri": "https://localhost:8080/"
        },
        "id": "fUl-fnLqX0c3",
        "outputId": "1706bc90-09d8-4134-d0b9-4ab924126de7"
      },
      "execution_count": null,
      "outputs": [
        {
          "output_type": "stream",
          "name": "stdout",
          "text": [
            "0.8888888888888888\n"
          ]
        }
      ]
    },
    {
      "cell_type": "code",
      "source": [
        "#Calculating F1 Score\n",
        "print(metrics.f1_score(y_real,y_pred,average='macro'))"
      ],
      "metadata": {
        "colab": {
          "base_uri": "https://localhost:8080/"
        },
        "id": "J0SlkE3IN3Rh",
        "outputId": "6d05b5c9-4ce8-4834-8aea-2e157bfddd53"
      },
      "execution_count": null,
      "outputs": [
        {
          "output_type": "stream",
          "name": "stdout",
          "text": [
            "0.8222222222222223\n"
          ]
        }
      ]
    }
  ]
}