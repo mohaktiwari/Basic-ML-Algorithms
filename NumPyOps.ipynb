{
  "nbformat": 4,
  "nbformat_minor": 0,
  "metadata": {
    "colab": {
      "provenance": [],
      "authorship_tag": "ABX9TyPMrZ9NOENR/KzyMqSyXiN6",
      "include_colab_link": true
    },
    "kernelspec": {
      "name": "python3",
      "display_name": "Python 3"
    },
    "language_info": {
      "name": "python"
    }
  },
  "cells": [
    {
      "cell_type": "markdown",
      "metadata": {
        "id": "view-in-github",
        "colab_type": "text"
      },
      "source": [
        "<a href=\"https://colab.research.google.com/github/mohaktiwari/MarvelTasks/blob/main/NumPyOps.ipynb\" target=\"_parent\"><img src=\"https://colab.research.google.com/assets/colab-badge.svg\" alt=\"Open In Colab\"/></a>"
      ]
    },
    {
      "cell_type": "code",
      "execution_count": null,
      "metadata": {
        "colab": {
          "base_uri": "https://localhost:8080/"
        },
        "id": "DycvKfshkt4r",
        "outputId": "597d8b96-5aee-44c2-d32b-7e30c492be0b"
      },
      "outputs": [
        {
          "output_type": "stream",
          "name": "stdout",
          "text": [
            "[1 1 1 2 2 2 3 3 3 4 4 4 5 5 5]\n"
          ]
        }
      ],
      "source": [
        "#Creating an array by repeating values of small 1 dimensionional array\n",
        "import numpy as np\n",
        "arr1=np.array([1,2,3,4,5])\n",
        "newarr1=np.repeat(arr1,3,axis=0)\n",
        "print(newarr1)"
      ]
    },
    {
      "cell_type": "code",
      "source": [
        "#Creating an array by repeating values of small 2 dimensionional array\n",
        "arr2=np.array([[1,2],[3,4]])\n",
        "newarr2=np.repeat(arr2,4,axis=1)\n",
        "print(newarr2)"
      ],
      "metadata": {
        "colab": {
          "base_uri": "https://localhost:8080/"
        },
        "id": "aUSl9cMRtNjK",
        "outputId": "9d419881-3b56-4815-c49a-043fbfb7de76"
      },
      "execution_count": null,
      "outputs": [
        {
          "output_type": "stream",
          "name": "stdout",
          "text": [
            "[[1 1 1 1 2 2 2 2]\n",
            " [3 3 3 3 4 4 4 4]]\n"
          ]
        }
      ]
    },
    {
      "cell_type": "code",
      "source": [
        "#Creating an array by repeating values of small 3 dimensionional array\n",
        "arr3=np.array([[[1,2],[2,4]],[[5,6],[3,4]]])\n",
        "newarr3=np.repeat(arr3,4,axis=2)\n",
        "print(newarr3)"
      ],
      "metadata": {
        "colab": {
          "base_uri": "https://localhost:8080/"
        },
        "id": "ZyL3el9rtOSa",
        "outputId": "8bc93577-2fe4-4670-a9dd-537987af1a7b"
      },
      "execution_count": null,
      "outputs": [
        {
          "output_type": "stream",
          "name": "stdout",
          "text": [
            "[[[1 1 1 1 2 2 2 2]\n",
            "  [2 2 2 2 4 4 4 4]]\n",
            "\n",
            " [[5 5 5 5 6 6 6 6]\n",
            "  [3 3 3 3 4 4 4 4]]]\n"
          ]
        }
      ]
    },
    {
      "cell_type": "code",
      "source": [
        "#Sorting the array using the index numbers\n",
        "arr4=[4,3,8,1,6]\n",
        "SortedArray=np.argsort(arr4)\n",
        "print(SortedArray)"
      ],
      "metadata": {
        "colab": {
          "base_uri": "https://localhost:8080/"
        },
        "id": "ZM175NjitQxB",
        "outputId": "0a0d4c2f-e116-4b6d-a899-7c4aca430728"
      },
      "execution_count": null,
      "outputs": [
        {
          "output_type": "stream",
          "name": "stdout",
          "text": [
            "[3 1 0 4 2]\n"
          ]
        }
      ]
    }
  ]
}