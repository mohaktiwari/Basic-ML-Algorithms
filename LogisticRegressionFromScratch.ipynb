{
  "nbformat": 4,
  "nbformat_minor": 0,
  "metadata": {
    "colab": {
      "provenance": [],
      "authorship_tag": "ABX9TyOTajvIfdzJxbi4TRTm5tCp",
      "include_colab_link": true
    },
    "kernelspec": {
      "name": "python3",
      "display_name": "Python 3"
    },
    "language_info": {
      "name": "python"
    }
  },
  "cells": [
    {
      "cell_type": "markdown",
      "metadata": {
        "id": "view-in-github",
        "colab_type": "text"
      },
      "source": [
        "<a href=\"https://colab.research.google.com/github/mohaktiwari/MarvelTasks/blob/main/LogisticRegressionFromScratch.ipynb\" target=\"_parent\"><img src=\"https://colab.research.google.com/assets/colab-badge.svg\" alt=\"Open In Colab\"/></a>"
      ]
    },
    {
      "cell_type": "code",
      "execution_count": 1,
      "metadata": {
        "id": "lluSj4HBjCfY"
      },
      "outputs": [],
      "source": [
        "import numpy as np\n",
        "\n",
        "#Defining the sigmoid function\n",
        "def sigmoid(x):\n",
        "    return 1/(1+np.exp(-x))\n",
        "\n",
        "\n",
        "class LogisticRegression():\n",
        "\n",
        "    def __init__(self, lr, n_iters):\n",
        "        #Intialising the learning rate(lr) and number of iteration(n_inter) values\n",
        "        self.lr = lr\n",
        "        self.n_iters = n_iters\n",
        "        self.weights = None\n",
        "        self.bias = None\n",
        "\n",
        "    def fit(self, X, y):\n",
        "        #Intialising the weights and the bias values\n",
        "        n_samples, n_features = X.shape\n",
        "        self.weights = np.zeros(n_features)\n",
        "        self.bias = 0\n",
        "\n",
        "        for _ in range(self.n_iters):\n",
        "            #Finding the predictions for the given weights and bias values and puting the value in the sigmoid function\n",
        "            linear_pred = np.dot(X, self.weights) + self.bias\n",
        "            predictions = sigmoid(linear_pred)\n",
        "\n",
        "            #Finding the dervatives(gradients) of the Cross Entropy\n",
        "            dw = (1/n_samples) * np.dot(X.T, (predictions - y))\n",
        "            db = (1/n_samples) * np.sum(predictions-y)\n",
        "\n",
        "            #Updating the weights and bias values\n",
        "            self.weights = self.weights - self.lr*dw\n",
        "            self.bias = self.bias - self.lr*db\n",
        "\n",
        "\n",
        "    def predict(self, X):\n",
        "        #Finding the prediction values for the given dataset and puting the value in the sigmoid function\n",
        "        linear_pred = np.dot(X, self.weights) + self.bias\n",
        "        y_pred = sigmoid(linear_pred)\n",
        "        #Classifying the data as 1 or 0 depending on the data\n",
        "        class_pred = [0 if y<=0.5 else 1 for y in y_pred]\n",
        "        return class_pred"
      ]
    },
    {
      "cell_type": "code",
      "source": [
        "import numpy as np\n",
        "from sklearn.model_selection import train_test_split\n",
        "from sklearn import datasets\n",
        "import matplotlib.pyplot as plt\n",
        "\n",
        "#Loading the dataset and assigning X and y values\n",
        "bc = datasets.load_breast_cancer()\n",
        "X, y = bc.data, bc.target\n",
        "#Splitting the data into training and testing\n",
        "X_train, X_test, y_train, y_test = train_test_split(X, y, test_size=0.2, random_state=1234)\n",
        "\n",
        "#Creating a logistic regression model\n",
        "clf = LogisticRegression(lr=0.01,n_iters=1000)\n",
        "\n",
        "#Fitting the training data\n",
        "clf.fit(X_train,y_train)\n",
        "#Forming predictions\n",
        "y_pred = clf.predict(X_test)\n",
        "\n",
        "#Calculating the accuracy of the model\n",
        "def accuracy(y_pred, y_test):\n",
        "    return np.sum(y_pred==y_test)/len(y_test)\n",
        "\n",
        "acc = accuracy(y_pred, y_test)\n",
        "print(\"\\nThe accuracy of the model is\",acc,\"\\n\")"
      ],
      "metadata": {
        "colab": {
          "base_uri": "https://localhost:8080/"
        },
        "id": "Cn-UJGOFngfd",
        "outputId": "d0d13ec7-175d-4b06-8a41-c73bfa5ff68d"
      },
      "execution_count": 4,
      "outputs": [
        {
          "output_type": "stream",
          "name": "stdout",
          "text": [
            "\n",
            "The accuracy of the model is 0.9210526315789473 \n",
            "\n"
          ]
        },
        {
          "output_type": "stream",
          "name": "stderr",
          "text": [
            "<ipython-input-1-eec0641ef31c>:5: RuntimeWarning: overflow encountered in exp\n",
            "  return 1/(1+np.exp(-x))\n"
          ]
        }
      ]
    }
  ]
}